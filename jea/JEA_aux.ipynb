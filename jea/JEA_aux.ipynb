{
 "cells": [
  {
   "cell_type": "markdown",
   "metadata": {},
   "source": [
    "## Auxiliary processing of data"
   ]
  },
  {
   "cell_type": "code",
   "execution_count": 1,
   "metadata": {},
   "outputs": [],
   "source": [
    "import pickle, os"
   ]
  },
  {
   "cell_type": "code",
   "execution_count": 8,
   "metadata": {},
   "outputs": [],
   "source": [
    "def strip_log(log):\n",
    "    for it in log[\"iterations\"]:\n",
    "        del log[\"iterations\"][it][\"x\"]\n",
    "        del log[\"iterations\"][it][\"g\"]\n",
    "        for g in log[\"iterations\"][it][\"gammas\"]:\n",
    "            del log[\"iterations\"][it][\"gammas\"][g][\"g\"]\n",
    "    return log\n",
    "    \n",
    "    \n",
    "def strip_pickles(LOGDIR):\n",
    "    for root, dirs, files in os.walk(LOGDIR):\n",
    "        for name in files:\n",
    "            if \".pickle\" in name and (\".stripped.pickle\" not in name):\n",
    "                p=open(os.path.join(root, name), \"rb\")\n",
    "                log = pickle.load(p)\n",
    "                new_name = name[:-7] + \".stripped.pickle\"\n",
    "                p_stripped=open(os.path.join(root, new_name), \"w\")\n",
    "                stripped_log = strip_log(log)\n",
    "                pickle.dump(stripped_log, p_stripped)\n",
    "                p_stripped.close()\n",
    "                p.close()\n",
    "\n",
    "def delete_full_pickles(LOGDIR):\n",
    "    for root, dirs, files in os.walk(LOGDIR):\n",
    "        for name in files:\n",
    "            if \".pickle\" in name and (\".stripped.pickle\" not in name):\n",
    "                os.remove(os.path.join(root,name))\n",
    "                "
   ]
  },
  {
   "cell_type": "code",
   "execution_count": 12,
   "metadata": {},
   "outputs": [],
   "source": [
    "strip_pickles(\"/aux/alquaknaa/sage/nfolds/logs_6/\")"
   ]
  },
  {
   "cell_type": "code",
   "execution_count": 6,
   "metadata": {},
   "outputs": [],
   "source": [
    "strip_pickles(\"/aux/alquaknaa/sage/nfolds/logs_small/\")"
   ]
  },
  {
   "cell_type": "code",
   "execution_count": 7,
   "metadata": {},
   "outputs": [],
   "source": [
    "strip_pickles(\"/aux/alquaknaa/sage/nfolds/cs_test/\")"
   ]
  },
  {
   "cell_type": "code",
   "execution_count": 18,
   "metadata": {},
   "outputs": [],
   "source": [
    "strip_pickles(\"/aux/alquaknaa/sage/nfolds/cs_test_2/\")"
   ]
  },
  {
   "cell_type": "code",
   "execution_count": 3,
   "metadata": {},
   "outputs": [],
   "source": [
    "strip_pickles(\"/aux/alquaknaa/sage/nfolds/logs_gammas/\")"
   ]
  },
  {
   "cell_type": "code",
   "execution_count": 5,
   "metadata": {},
   "outputs": [],
   "source": [
    "strip_pickles(\"/aux/alquaknaa/sage/nfolds/logs_sched_8/\")"
   ]
  },
  {
   "cell_type": "code",
   "execution_count": 15,
   "metadata": {},
   "outputs": [],
   "source": [
    "delete_full_pickles(\"/aux/alquaknaa/sage/nfolds/cs_test_stripped\")"
   ]
  },
  {
   "cell_type": "code",
   "execution_count": 13,
   "metadata": {},
   "outputs": [],
   "source": [
    "delete_full_pickles(\"/aux/alquaknaa/sage/nfolds/single_sched_stripped\")"
   ]
  },
  {
   "cell_type": "code",
   "execution_count": 12,
   "metadata": {},
   "outputs": [],
   "source": [
    "delete_full_pickles(\"/aux/alquaknaa/sage/nfolds/single_cs_stripped\")"
   ]
  },
  {
   "cell_type": "code",
   "execution_count": 14,
   "metadata": {},
   "outputs": [],
   "source": [
    "delete_full_pickles(\"/aux/alquaknaa/sage/nfolds/logs_small_stripped/\")"
   ]
  },
  {
   "cell_type": "code",
   "execution_count": null,
   "metadata": {},
   "outputs": [],
   "source": []
  }
 ],
 "metadata": {
  "kernelspec": {
   "display_name": "Python 2",
   "language": "python",
   "name": "python2"
  },
  "language_info": {
   "codemirror_mode": {
    "name": "ipython",
    "version": 2
   },
   "file_extension": ".py",
   "mimetype": "text/x-python",
   "name": "python",
   "nbconvert_exporter": "python",
   "pygments_lexer": "ipython2",
   "version": "2.7.9"
  }
 },
 "nbformat": 4,
 "nbformat_minor": 2
}
